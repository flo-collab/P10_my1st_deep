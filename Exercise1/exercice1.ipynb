{
 "cells": [
  {
   "cell_type": "code",
   "execution_count": 1,
   "metadata": {},
   "outputs": [],
   "source": [
    "import numpy as np"
   ]
  },
  {
   "cell_type": "code",
   "execution_count": 14,
   "metadata": {},
   "outputs": [
    {
     "name": "stdout",
     "output_type": "stream",
     "text": [
      "0\n",
      "2\n",
      "4\n"
     ]
    }
   ],
   "source": [
    "test = np.arange(3)\n",
    "test2 = np.arange(3)\n",
    "result = 0\n",
    "for i,j in zip(test ,test2) :\n",
    "    print(i+j)\n",
    "np.exp(1)"
   ]
  },
  {
   "cell_type": "code",
   "execution_count": 17,
   "metadata": {},
   "outputs": [],
   "source": [
    "# part1\n",
    "X = [1,-3.1,-7.2,2.1]"
   ]
  },
  {
   "cell_type": "code",
   "execution_count": 35,
   "metadata": {},
   "outputs": [
    {
     "name": "stdout",
     "output_type": "stream",
     "text": [
      "-4.049999999999999\n"
     ]
    }
   ],
   "source": [
    "def lin_reg1(X):\n",
    "    W =[2.1,1.2,0.3,1.3]\n",
    "    b = -3\n",
    "    result = b\n",
    "    for i, j in zip(X, W):\n",
    "        result = result + i*j\n",
    "    return result\n",
    "\n",
    "def lin_reg2(X):\n",
    "    W =[0.1,1.2,4.9,3.1]\n",
    "    b = -5\n",
    "    result = b\n",
    "    for i, j in zip(X, W):\n",
    "        result = result + i*j\n",
    "    return result\n",
    "\n",
    "def lin_reg3(X):\n",
    "    W =[0.4,2.6,2.5,3.8]\n",
    "    b = -8\n",
    "    result = b\n",
    "    for i, j in zip(X, W):\n",
    "        result = result + i*j\n",
    "    return result\n",
    "\n",
    "\n",
    "def lin_reg_next_layer(X):\n",
    "    W =[1.1,-4.1,0.7]\n",
    "    b = 5.1\n",
    "    result = b\n",
    "    for i, j in zip(X, W):\n",
    "        result = result + i*j\n",
    "    return result\n",
    "\n",
    "def relu(x):\n",
    "    if x < 0:\n",
    "        x=0\n",
    "    return x\n",
    "\n",
    "def sigmoide(x):\n",
    "    return 1/( 1 + np.exp(-x) )\n",
    "\n",
    "\n",
    "print(lin_reg1(X))"
   ]
  },
  {
   "cell_type": "code",
   "execution_count": 42,
   "metadata": {},
   "outputs": [
    {
     "name": "stdout",
     "output_type": "stream",
     "text": [
      "-4.049999999999999\n",
      "-37.39000000000001\n",
      "-4.049999999999999\n",
      "[0, 0, 0]\n",
      "5.1\n",
      "0.9939401985084158\n"
     ]
    }
   ],
   "source": [
    "print(lin_reg1(X))\n",
    "print(lin_reg2(X))\n",
    "print(lin_reg1(X))\n",
    "out1 = relu(lin_reg1(X))\n",
    "out2 = relu(lin_reg2(X))\n",
    "out3 = relu(lin_reg3(X))\n",
    "X2 = [out1,out2,out3]\n",
    "print(X2)\n",
    "print(lin_reg_next_layer(X2))\n",
    "y_pred = sigmoide(lin_reg_next_layer(X2))\n",
    "print(y_pred)"
   ]
  }
 ],
 "metadata": {
  "interpreter": {
   "hash": "ffb675bf07703f28461ec9aff5c5373c66e814e8c5d8191d6a337708828f3c08"
  },
  "kernelspec": {
   "display_name": "Python 3.8.8 64-bit ('base': conda)",
   "language": "python",
   "name": "python3"
  },
  "language_info": {
   "codemirror_mode": {
    "name": "ipython",
    "version": 3
   },
   "file_extension": ".py",
   "mimetype": "text/x-python",
   "name": "python",
   "nbconvert_exporter": "python",
   "pygments_lexer": "ipython3",
   "version": "3.8.8"
  },
  "orig_nbformat": 4
 },
 "nbformat": 4,
 "nbformat_minor": 2
}
