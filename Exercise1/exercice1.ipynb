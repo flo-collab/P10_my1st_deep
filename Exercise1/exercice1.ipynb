{
 "cells": [
  {
   "cell_type": "code",
   "execution_count": 1,
   "metadata": {},
   "outputs": [],
   "source": [
    "import numpy as np"
   ]
  },
  {
   "cell_type": "code",
   "execution_count": 14,
   "metadata": {},
   "outputs": [
    {
     "name": "stdout",
     "output_type": "stream",
     "text": [
      "0\n",
      "2\n",
      "4\n"
     ]
    }
   ],
   "source": [
    "test = np.arange(3)\n",
    "test2 = np.arange(3)\n",
    "result = 0\n",
    "for i,j in zip(test ,test2) :\n",
    "    print(i+j)"
   ]
  },
  {
   "cell_type": "code",
   "execution_count": 17,
   "metadata": {},
   "outputs": [],
   "source": [
    "# part1\n",
    "X = [1,-3.1,-7.2,2.1]"
   ]
  },
  {
   "cell_type": "code",
   "execution_count": 19,
   "metadata": {},
   "outputs": [
    {
     "name": "stdout",
     "output_type": "stream",
     "text": [
      "-4.049999999999999\n"
     ]
    }
   ],
   "source": [
    "def lin_reg1(X):\n",
    "    W =[2.1,1.2,0.3,1.3]\n",
    "    b = -3\n",
    "    result = b\n",
    "    for i, j in zip(X, W):\n",
    "        result = result + i*j\n",
    "    return result\n",
    "\n",
    "print(lin_reg1(X))"
   ]
  },
  {
   "cell_type": "code",
   "execution_count": null,
   "metadata": {},
   "outputs": [],
   "source": []
  }
 ],
 "metadata": {
  "interpreter": {
   "hash": "ffb675bf07703f28461ec9aff5c5373c66e814e8c5d8191d6a337708828f3c08"
  },
  "kernelspec": {
   "display_name": "Python 3.8.8 64-bit ('base': conda)",
   "language": "python",
   "name": "python3"
  },
  "language_info": {
   "codemirror_mode": {
    "name": "ipython",
    "version": 3
   },
   "file_extension": ".py",
   "mimetype": "text/x-python",
   "name": "python",
   "nbconvert_exporter": "python",
   "pygments_lexer": "ipython3",
   "version": "3.8.8"
  },
  "orig_nbformat": 4
 },
 "nbformat": 4,
 "nbformat_minor": 2
}
